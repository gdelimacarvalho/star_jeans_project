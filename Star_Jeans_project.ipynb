{
 "cells": [
  {
   "cell_type": "markdown",
   "metadata": {},
   "source": [
    "# <font color='1B818D'>Star Jeans</font>\n",
    "Eduardo e Marcelo são dois brasileiros, amigos e sócios de empreendimento. Depois de vários negócio bem sucedidos, eles estão planejando entrar no mercado de moda dos EUA como um modelo de negócio do tipo E-commerce.\n",
    "\n",
    "A idéia inicial é entrar no mercado com apenas um produto e para um público específico: calças Jenas para o público masculino. O objetivo é manter o custo de operação baixo e escalar a medida que forem conseguindo clientes.\n",
    "\n",
    "Porém, mesmo com o produto de entrada e a audiência definidos, os dois sócios não tem experiência nesse mercado de moda e portanto não sabem definir coisas básicas como preço, o tipo de calça e o material para a fabricação de cada peça.\n",
    "\n",
    "Assim, os dois sócios contrataram uma consultoria de Ciência de Dados para responder as seguintes\n",
    "perguntas: \n",
    "1. Qual o melhor preço de venda para as calças? \n",
    "2. Quantos tipos de calças e suas cores para o produto inicial? \n",
    "3. Quais as matérias-prima necessárias para confeccionar as calças?\n",
    "\n",
    "As principais concorrentes da empresa Start Jeans são as americadas H&M e Macys."
   ]
  },
  {
   "cell_type": "markdown",
   "metadata": {},
   "source": [
    "## <font color='1B818D'>Planejamento da Solução</font>"
   ]
  },
  {
   "cell_type": "markdown",
   "metadata": {},
   "source": [
    "1. Problema de Negócio\n",
    "    - Qual o melhor preço de venda para as calças?\n",
    "       - Mediana dos preços dos concorrentes\n",
    "           - Realizar o calculo da mediana sobre o produto, tipo e cor\n",
    "    - Quantos tipos de calças e suas cores para o produto inicial?\n",
    "    - Quais as matérias-prima necessárias para confeccionar as calças?\n",
    "<br><br>     \n",
    "2. Formato de Entrega\n",
    "   - Tabelas e Gráficos\n",
    "        - Gráfico de barras com a mediana dos preço dos produtos, por tipo e cor dos últimos 30 dia\n",
    "        - Tabela com as seguintes colunas:<br> id | product_name | product_type | product_color | product_composition | product_price\n",
    "        - Definição do schema: Colunas e seu tipo\n",
    "        - Definição a infraestrutura de armazenamento (SQLITE3)\n",
    "        - Design do ETL (Scripts de Extração, Transformação e Carga)\n",
    "        - Planejamento de Agendamento dos scripts (dependencias entre os scripts)\n",
    "        - Fazer as visualizações\n",
    "        - Entrega do produto final\n",
    "<br><br>     \n",
    "3. Local de Entrega\n",
    "   - App no Streamlit\n",
    "<br><br>     \n",
    "4. Fonte de Dados\n",
    "   - Site da H&M: https://www2.hm.com/en_us/men/products/jeans.html\n",
    "   - Site da Macys: https://www.macys.com/shop/mens-clothing/mens-jeans\n",
    "<br><br>\n",
    "5. Ferramentas\n",
    "    - Python 3.8.0\n",
    "    - Bibliotecas de Webscrapping (BS4, Selenium)\n",
    "    - PyCharm\n",
    "    - Jupyter Notebook (análise e prototipagens)\n",
    "    - Crontjob, Airflow\n",
    "    - Streamlit\n",
    "    - Heroku"
   ]
  },
  {
   "cell_type": "markdown",
   "metadata": {
    "ExecuteTime": {
     "end_time": "2022-03-23T00:13:32.907394Z",
     "start_time": "2022-03-23T00:13:32.897441Z"
    }
   },
   "source": [
    "### <font color='1B818D'>Web Scraping Showcase</font>"
   ]
  },
  {
   "cell_type": "code",
   "execution_count": 1,
   "metadata": {
    "ExecuteTime": {
     "end_time": "2022-03-30T21:46:11.951585Z",
     "start_time": "2022-03-30T21:46:09.977690Z"
    }
   },
   "outputs": [],
   "source": [
    "from bs4 import BeautifulSoup\n",
    "import requests\n",
    "import pandas as pd\n",
    "import numpy as np\n",
    "from datetime import datetime\n",
    "import re\n",
    "import math"
   ]
  },
  {
   "cell_type": "code",
   "execution_count": 2,
   "metadata": {
    "ExecuteTime": {
     "end_time": "2022-03-30T21:46:12.818446Z",
     "start_time": "2022-03-30T21:46:11.952583Z"
    }
   },
   "outputs": [],
   "source": [
    "url_hm = 'https://www2.hm.com/en_us/men/products/jeans.html'\n",
    "headers = {'User-Agent': 'Mozilla/5.0 (Macintosh; Intel Mac OS X 10_11_5) AppleWebKit/537.36 (KHTML, like Gecko) Chrome/50.0.2661.102 Safari/537.36'}\n",
    "page = requests.get(url_hm, headers=headers)"
   ]
  },
  {
   "cell_type": "code",
   "execution_count": 3,
   "metadata": {
    "ExecuteTime": {
     "end_time": "2022-03-30T21:46:12.976091Z",
     "start_time": "2022-03-30T21:46:12.822431Z"
    }
   },
   "outputs": [],
   "source": [
    "soup = BeautifulSoup(page.text, 'html.parser')"
   ]
  },
  {
   "cell_type": "code",
   "execution_count": 4,
   "metadata": {
    "ExecuteTime": {
     "end_time": "2022-03-30T21:46:13.007998Z",
     "start_time": "2022-03-30T21:46:12.976994Z"
    }
   },
   "outputs": [
    {
     "data": {
      "text/plain": [
       "3"
      ]
     },
     "execution_count": 4,
     "metadata": {},
     "output_type": "execute_result"
    }
   ],
   "source": [
    "total_item = soup.find_all('h2', class_='load-more-heading')[0].get('data-total')\n",
    "num_pages = math.ceil(int(total_item)/36)\n",
    "num_pages"
   ]
  },
  {
   "cell_type": "code",
   "execution_count": 5,
   "metadata": {
    "ExecuteTime": {
     "end_time": "2022-03-30T21:46:13.024091Z",
     "start_time": "2022-03-30T21:46:13.008994Z"
    }
   },
   "outputs": [
    {
     "data": {
      "text/plain": [
       "'https://www2.hm.com/en_us/men/products/jeans.html?page-size=108'"
      ]
     },
     "execution_count": 5,
     "metadata": {},
     "output_type": "execute_result"
    }
   ],
   "source": [
    "url_hm2 = url_hm + '?page-size=' + str(int(num_pages * 36))\n",
    "url_hm2"
   ]
  },
  {
   "cell_type": "code",
   "execution_count": 6,
   "metadata": {
    "ExecuteTime": {
     "end_time": "2022-03-30T21:46:13.541982Z",
     "start_time": "2022-03-30T21:46:13.024995Z"
    }
   },
   "outputs": [],
   "source": [
    "page = requests.get(url_hm2, headers=headers)\n",
    "soup = BeautifulSoup(page.text, 'html.parser')"
   ]
  },
  {
   "cell_type": "code",
   "execution_count": 7,
   "metadata": {
    "ExecuteTime": {
     "end_time": "2022-03-30T21:46:13.556999Z",
     "start_time": "2022-03-30T21:46:13.543016Z"
    }
   },
   "outputs": [],
   "source": [
    "products = soup.find('ul', class_='products-listing small')"
   ]
  },
  {
   "cell_type": "code",
   "execution_count": 8,
   "metadata": {
    "ExecuteTime": {
     "end_time": "2022-03-30T21:46:13.587847Z",
     "start_time": "2022-03-30T21:46:13.559982Z"
    }
   },
   "outputs": [],
   "source": [
    "product_list = products.find_all('article', class_='hm-product-item')\n",
    "\n",
    "#product id\n",
    "product_id = [p.get('data-articlecode') for p in product_list]\n",
    "\n",
    "#product category\n",
    "product_category = [p.get('data-category') for p in product_list]"
   ]
  },
  {
   "cell_type": "code",
   "execution_count": 9,
   "metadata": {
    "ExecuteTime": {
     "end_time": "2022-03-30T21:46:13.603879Z",
     "start_time": "2022-03-30T21:46:13.588846Z"
    }
   },
   "outputs": [],
   "source": [
    "product_list = products.find_all('a', class_='link')\n",
    "\n",
    "#product name\n",
    "product_name = [p.get_text() for p in product_list]"
   ]
  },
  {
   "cell_type": "code",
   "execution_count": 10,
   "metadata": {
    "ExecuteTime": {
     "end_time": "2022-03-30T21:46:13.635287Z",
     "start_time": "2022-03-30T21:46:13.604850Z"
    }
   },
   "outputs": [],
   "source": [
    "product_list = products.find_all('span', class_='price regular')\n",
    "\n",
    "#product price\n",
    "product_price = [p.get_text() for p in product_list]"
   ]
  },
  {
   "cell_type": "code",
   "execution_count": 11,
   "metadata": {
    "ExecuteTime": {
     "end_time": "2022-03-30T21:46:13.682117Z",
     "start_time": "2022-03-30T21:46:13.636288Z"
    }
   },
   "outputs": [
    {
     "data": {
      "text/html": [
       "<div>\n",
       "<style scoped>\n",
       "    .dataframe tbody tr th:only-of-type {\n",
       "        vertical-align: middle;\n",
       "    }\n",
       "\n",
       "    .dataframe tbody tr th {\n",
       "        vertical-align: top;\n",
       "    }\n",
       "\n",
       "    .dataframe thead th {\n",
       "        text-align: right;\n",
       "    }\n",
       "</style>\n",
       "<table border=\"1\" class=\"dataframe\">\n",
       "  <thead>\n",
       "    <tr style=\"text-align: right;\">\n",
       "      <th></th>\n",
       "      <th>product_id</th>\n",
       "      <th>product_category</th>\n",
       "      <th>product_name</th>\n",
       "      <th>product_price</th>\n",
       "      <th>scrapy_datetime</th>\n",
       "    </tr>\n",
       "  </thead>\n",
       "  <tbody>\n",
       "    <tr>\n",
       "      <th>82</th>\n",
       "      <td>1048642001</td>\n",
       "      <td>men_jeans_regular</td>\n",
       "      <td>Regular Bootcut Jeans</td>\n",
       "      <td>$ 39.99</td>\n",
       "      <td>2022-03-30 18:46:13</td>\n",
       "    </tr>\n",
       "    <tr>\n",
       "      <th>23</th>\n",
       "      <td>1024256006</td>\n",
       "      <td>men_jeans_slim</td>\n",
       "      <td>Slim Jeans</td>\n",
       "      <td>$ 19.99</td>\n",
       "      <td>2022-03-30 18:46:13</td>\n",
       "    </tr>\n",
       "    <tr>\n",
       "      <th>61</th>\n",
       "      <td>0427159006</td>\n",
       "      <td>men_jeans_ripped</td>\n",
       "      <td>Trashed Skinny Jeans</td>\n",
       "      <td>$ 39.99</td>\n",
       "      <td>2022-03-30 18:46:13</td>\n",
       "    </tr>\n",
       "    <tr>\n",
       "      <th>67</th>\n",
       "      <td>0811993040</td>\n",
       "      <td>men_jeans_regular</td>\n",
       "      <td>Regular Jeans</td>\n",
       "      <td>$ 29.99</td>\n",
       "      <td>2022-03-30 18:46:13</td>\n",
       "    </tr>\n",
       "    <tr>\n",
       "      <th>21</th>\n",
       "      <td>1024256004</td>\n",
       "      <td>men_jeans_slim</td>\n",
       "      <td>Slim Jeans</td>\n",
       "      <td>$ 19.99</td>\n",
       "      <td>2022-03-30 18:46:13</td>\n",
       "    </tr>\n",
       "    <tr>\n",
       "      <th>95</th>\n",
       "      <td>0993887004</td>\n",
       "      <td>men_jeans_joggers</td>\n",
       "      <td>Hybrid Regular Denim Joggers</td>\n",
       "      <td>$ 39.99</td>\n",
       "      <td>2022-03-30 18:46:13</td>\n",
       "    </tr>\n",
       "    <tr>\n",
       "      <th>37</th>\n",
       "      <td>0938875007</td>\n",
       "      <td>men_jeans_slim</td>\n",
       "      <td>Slim Tapered Jeans</td>\n",
       "      <td>$ 39.99</td>\n",
       "      <td>2022-03-30 18:46:13</td>\n",
       "    </tr>\n",
       "    <tr>\n",
       "      <th>71</th>\n",
       "      <td>0875105017</td>\n",
       "      <td>men_jeans_relaxed</td>\n",
       "      <td>Relaxed Jeans</td>\n",
       "      <td>$ 39.99</td>\n",
       "      <td>2022-03-30 18:46:13</td>\n",
       "    </tr>\n",
       "    <tr>\n",
       "      <th>62</th>\n",
       "      <td>1024711001</td>\n",
       "      <td>men_jeans_slim</td>\n",
       "      <td>Slim Jeans</td>\n",
       "      <td>$ 29.99</td>\n",
       "      <td>2022-03-30 18:46:13</td>\n",
       "    </tr>\n",
       "    <tr>\n",
       "      <th>58</th>\n",
       "      <td>0974597006</td>\n",
       "      <td>men_jeans_slim</td>\n",
       "      <td>Slim Tapered Jeans</td>\n",
       "      <td>$ 29.99</td>\n",
       "      <td>2022-03-30 18:46:13</td>\n",
       "    </tr>\n",
       "  </tbody>\n",
       "</table>\n",
       "</div>"
      ],
      "text/plain": [
       "    product_id   product_category                  product_name product_price  \\\n",
       "82  1048642001  men_jeans_regular         Regular Bootcut Jeans       $ 39.99   \n",
       "23  1024256006     men_jeans_slim                    Slim Jeans       $ 19.99   \n",
       "61  0427159006   men_jeans_ripped          Trashed Skinny Jeans       $ 39.99   \n",
       "67  0811993040  men_jeans_regular                 Regular Jeans       $ 29.99   \n",
       "21  1024256004     men_jeans_slim                    Slim Jeans       $ 19.99   \n",
       "95  0993887004  men_jeans_joggers  Hybrid Regular Denim Joggers       $ 39.99   \n",
       "37  0938875007     men_jeans_slim            Slim Tapered Jeans       $ 39.99   \n",
       "71  0875105017  men_jeans_relaxed                 Relaxed Jeans       $ 39.99   \n",
       "62  1024711001     men_jeans_slim                    Slim Jeans       $ 29.99   \n",
       "58  0974597006     men_jeans_slim            Slim Tapered Jeans       $ 29.99   \n",
       "\n",
       "       scrapy_datetime  \n",
       "82 2022-03-30 18:46:13  \n",
       "23 2022-03-30 18:46:13  \n",
       "61 2022-03-30 18:46:13  \n",
       "67 2022-03-30 18:46:13  \n",
       "21 2022-03-30 18:46:13  \n",
       "95 2022-03-30 18:46:13  \n",
       "37 2022-03-30 18:46:13  \n",
       "71 2022-03-30 18:46:13  \n",
       "62 2022-03-30 18:46:13  \n",
       "58 2022-03-30 18:46:13  "
      ]
     },
     "execution_count": 11,
     "metadata": {},
     "output_type": "execute_result"
    }
   ],
   "source": [
    "data = pd.DataFrame([product_id, product_category, product_name, product_price]).T\n",
    "data.columns = ['product_id', 'product_category', 'product_name', 'product_price']\n",
    "data['scrapy_datetime'] = datetime.now().strftime('%Y-%m-%d %H:%M:%S')\n",
    "data['scrapy_datetime'] = pd.to_datetime(data['scrapy_datetime'])\n",
    "data.sample(10)"
   ]
  },
  {
   "cell_type": "markdown",
   "metadata": {
    "ExecuteTime": {
     "end_time": "2022-03-23T00:12:20.441756Z",
     "start_time": "2022-03-23T00:12:20.433755Z"
    }
   },
   "source": [
    "### <font color='1B818D'>Web Scraping Inside Products</font>"
   ]
  },
  {
   "cell_type": "code",
   "execution_count": 16,
   "metadata": {
    "ExecuteTime": {
     "end_time": "2022-03-30T21:50:38.292076Z",
     "start_time": "2022-03-30T21:50:37.265371Z"
    }
   },
   "outputs": [],
   "source": [
    "url_hm = 'https://www2.hm.com/en_us/productpage.0985159001.html'\n",
    "headers = {'User-Agent': 'Mozilla/5.0 (Macintosh; Intel Mac OS X 10_11_5) AppleWebKit/537.36 (KHTML, like Gecko) Chrome/50.0.2661.102 Safari/537.36'}\n",
    "page = requests.get(url_hm, headers=headers)\n",
    "\n",
    "soup = BeautifulSoup(page.text, 'html.parser')\n",
    "\n",
    "################# df_color\n",
    "\n",
    "#color name\n",
    "product_list = soup.find_all('a', class_='filter-option miniature')\n",
    "product_color_name = [p.get('data-color') for p in product_list]\n",
    "\n",
    "#product id\n",
    "product_id = [p.get('data-articlecode') for p in product_list]\n",
    "\n",
    "df_color = pd.DataFrame([product_id, product_color_name]).T\n",
    "df_color.columns = ['product_id', 'product_color_name']\n",
    "\n",
    "#creating style_id + color_id\n",
    "df_color['style_id'] = df_color['product_id'].apply(lambda x: x[:-3])\n",
    "df_color['color_id'] = df_color['product_id'].apply(lambda x: x[-3:])\n",
    "\n",
    "\n",
    "################# df_composition\n",
    "\n",
    "#composition\n",
    "product_composition_list = soup.find_all('div', class_='details-attributes-list-item')\n",
    "\n",
    "product_composition = [list(filter(None, p.get_text().split('\\n'))) for p in product_composition_list]\n",
    "\n",
    "df_composition = pd.DataFrame(product_composition).T\n",
    "df_composition.columns = df_composition.iloc[0]\n",
    "\n",
    "df_composition = df_composition.iloc[1:].fillna(method='ffill')\n",
    "df_composition = df_composition[['Fit', 'Composition', 'Art. No.']]\n",
    "df_composition = df_composition.drop_duplicates()\n",
    "\n",
    "#creating style_id + color_id\n",
    "df_composition['style_id'] = df_composition['Art. No.'].apply(lambda x: x[:-3])\n",
    "df_composition['color_id'] = df_composition['Art. No.'].apply(lambda x: x[-3:])\n",
    "\n",
    "\n",
    "################# merge df_color + df_composition\n",
    "data_sku = pd.merge(df_color, df_composition[['Fit', 'Composition', 'style_id']], how='left', on='style_id')"
   ]
  },
  {
   "cell_type": "code",
   "execution_count": 17,
   "metadata": {
    "ExecuteTime": {
     "end_time": "2022-03-30T21:50:40.671143Z",
     "start_time": "2022-03-30T21:50:40.647114Z"
    }
   },
   "outputs": [
    {
     "data": {
      "text/html": [
       "<div>\n",
       "<style scoped>\n",
       "    .dataframe tbody tr th:only-of-type {\n",
       "        vertical-align: middle;\n",
       "    }\n",
       "\n",
       "    .dataframe tbody tr th {\n",
       "        vertical-align: top;\n",
       "    }\n",
       "\n",
       "    .dataframe thead th {\n",
       "        text-align: right;\n",
       "    }\n",
       "</style>\n",
       "<table border=\"1\" class=\"dataframe\">\n",
       "  <thead>\n",
       "    <tr style=\"text-align: right;\">\n",
       "      <th></th>\n",
       "      <th>product_id</th>\n",
       "      <th>product_color_name</th>\n",
       "      <th>style_id</th>\n",
       "      <th>color_id</th>\n",
       "      <th>Fit</th>\n",
       "      <th>Composition</th>\n",
       "    </tr>\n",
       "  </thead>\n",
       "  <tbody>\n",
       "    <tr>\n",
       "      <th>0</th>\n",
       "      <td>0985159002</td>\n",
       "      <td>Denim blue</td>\n",
       "      <td>0985159</td>\n",
       "      <td>002</td>\n",
       "      <td>Skinny fit</td>\n",
       "      <td>Shell: Cotton 99%, Spandex 1%</td>\n",
       "    </tr>\n",
       "    <tr>\n",
       "      <th>1</th>\n",
       "      <td>0985159002</td>\n",
       "      <td>Denim blue</td>\n",
       "      <td>0985159</td>\n",
       "      <td>002</td>\n",
       "      <td>Skinny fit</td>\n",
       "      <td>Pocket lining: Cotton 100%</td>\n",
       "    </tr>\n",
       "    <tr>\n",
       "      <th>2</th>\n",
       "      <td>0985159003</td>\n",
       "      <td>Dark gray</td>\n",
       "      <td>0985159</td>\n",
       "      <td>003</td>\n",
       "      <td>Skinny fit</td>\n",
       "      <td>Shell: Cotton 99%, Spandex 1%</td>\n",
       "    </tr>\n",
       "    <tr>\n",
       "      <th>3</th>\n",
       "      <td>0985159003</td>\n",
       "      <td>Dark gray</td>\n",
       "      <td>0985159</td>\n",
       "      <td>003</td>\n",
       "      <td>Skinny fit</td>\n",
       "      <td>Pocket lining: Cotton 100%</td>\n",
       "    </tr>\n",
       "    <tr>\n",
       "      <th>4</th>\n",
       "      <td>0985159004</td>\n",
       "      <td>Light denim blue</td>\n",
       "      <td>0985159</td>\n",
       "      <td>004</td>\n",
       "      <td>Skinny fit</td>\n",
       "      <td>Shell: Cotton 99%, Spandex 1%</td>\n",
       "    </tr>\n",
       "    <tr>\n",
       "      <th>5</th>\n",
       "      <td>0985159004</td>\n",
       "      <td>Light denim blue</td>\n",
       "      <td>0985159</td>\n",
       "      <td>004</td>\n",
       "      <td>Skinny fit</td>\n",
       "      <td>Pocket lining: Cotton 100%</td>\n",
       "    </tr>\n",
       "    <tr>\n",
       "      <th>6</th>\n",
       "      <td>0985159005</td>\n",
       "      <td>Dark blue</td>\n",
       "      <td>0985159</td>\n",
       "      <td>005</td>\n",
       "      <td>Skinny fit</td>\n",
       "      <td>Shell: Cotton 99%, Spandex 1%</td>\n",
       "    </tr>\n",
       "    <tr>\n",
       "      <th>7</th>\n",
       "      <td>0985159005</td>\n",
       "      <td>Dark blue</td>\n",
       "      <td>0985159</td>\n",
       "      <td>005</td>\n",
       "      <td>Skinny fit</td>\n",
       "      <td>Pocket lining: Cotton 100%</td>\n",
       "    </tr>\n",
       "    <tr>\n",
       "      <th>8</th>\n",
       "      <td>0985159006</td>\n",
       "      <td>Dark denim blue</td>\n",
       "      <td>0985159</td>\n",
       "      <td>006</td>\n",
       "      <td>Skinny fit</td>\n",
       "      <td>Shell: Cotton 99%, Spandex 1%</td>\n",
       "    </tr>\n",
       "    <tr>\n",
       "      <th>9</th>\n",
       "      <td>0985159006</td>\n",
       "      <td>Dark denim blue</td>\n",
       "      <td>0985159</td>\n",
       "      <td>006</td>\n",
       "      <td>Skinny fit</td>\n",
       "      <td>Pocket lining: Cotton 100%</td>\n",
       "    </tr>\n",
       "    <tr>\n",
       "      <th>10</th>\n",
       "      <td>0985159007</td>\n",
       "      <td>Denim blue</td>\n",
       "      <td>0985159</td>\n",
       "      <td>007</td>\n",
       "      <td>Skinny fit</td>\n",
       "      <td>Shell: Cotton 99%, Spandex 1%</td>\n",
       "    </tr>\n",
       "    <tr>\n",
       "      <th>11</th>\n",
       "      <td>0985159007</td>\n",
       "      <td>Denim blue</td>\n",
       "      <td>0985159</td>\n",
       "      <td>007</td>\n",
       "      <td>Skinny fit</td>\n",
       "      <td>Pocket lining: Cotton 100%</td>\n",
       "    </tr>\n",
       "    <tr>\n",
       "      <th>12</th>\n",
       "      <td>0985159008</td>\n",
       "      <td>Dark gray</td>\n",
       "      <td>0985159</td>\n",
       "      <td>008</td>\n",
       "      <td>Skinny fit</td>\n",
       "      <td>Shell: Cotton 99%, Spandex 1%</td>\n",
       "    </tr>\n",
       "    <tr>\n",
       "      <th>13</th>\n",
       "      <td>0985159008</td>\n",
       "      <td>Dark gray</td>\n",
       "      <td>0985159</td>\n",
       "      <td>008</td>\n",
       "      <td>Skinny fit</td>\n",
       "      <td>Pocket lining: Cotton 100%</td>\n",
       "    </tr>\n",
       "  </tbody>\n",
       "</table>\n",
       "</div>"
      ],
      "text/plain": [
       "    product_id product_color_name style_id color_id         Fit  \\\n",
       "0   0985159002         Denim blue  0985159      002  Skinny fit   \n",
       "1   0985159002         Denim blue  0985159      002  Skinny fit   \n",
       "2   0985159003          Dark gray  0985159      003  Skinny fit   \n",
       "3   0985159003          Dark gray  0985159      003  Skinny fit   \n",
       "4   0985159004   Light denim blue  0985159      004  Skinny fit   \n",
       "5   0985159004   Light denim blue  0985159      004  Skinny fit   \n",
       "6   0985159005          Dark blue  0985159      005  Skinny fit   \n",
       "7   0985159005          Dark blue  0985159      005  Skinny fit   \n",
       "8   0985159006    Dark denim blue  0985159      006  Skinny fit   \n",
       "9   0985159006    Dark denim blue  0985159      006  Skinny fit   \n",
       "10  0985159007         Denim blue  0985159      007  Skinny fit   \n",
       "11  0985159007         Denim blue  0985159      007  Skinny fit   \n",
       "12  0985159008          Dark gray  0985159      008  Skinny fit   \n",
       "13  0985159008          Dark gray  0985159      008  Skinny fit   \n",
       "\n",
       "                      Composition  \n",
       "0   Shell: Cotton 99%, Spandex 1%  \n",
       "1      Pocket lining: Cotton 100%  \n",
       "2   Shell: Cotton 99%, Spandex 1%  \n",
       "3      Pocket lining: Cotton 100%  \n",
       "4   Shell: Cotton 99%, Spandex 1%  \n",
       "5      Pocket lining: Cotton 100%  \n",
       "6   Shell: Cotton 99%, Spandex 1%  \n",
       "7      Pocket lining: Cotton 100%  \n",
       "8   Shell: Cotton 99%, Spandex 1%  \n",
       "9      Pocket lining: Cotton 100%  \n",
       "10  Shell: Cotton 99%, Spandex 1%  \n",
       "11     Pocket lining: Cotton 100%  \n",
       "12  Shell: Cotton 99%, Spandex 1%  \n",
       "13     Pocket lining: Cotton 100%  "
      ]
     },
     "execution_count": 17,
     "metadata": {},
     "output_type": "execute_result"
    }
   ],
   "source": [
    "data_sku"
   ]
  },
  {
   "cell_type": "markdown",
   "metadata": {},
   "source": [
    "### <font color='1B818D'>Multiple Web Scraping Inside Products</font>"
   ]
  },
  {
   "cell_type": "code",
   "execution_count": 27,
   "metadata": {
    "ExecuteTime": {
     "end_time": "2022-03-30T22:46:53.787045Z",
     "start_time": "2022-03-30T22:45:49.897235Z"
    }
   },
   "outputs": [
    {
     "name": "stdout",
     "output_type": "stream",
     "text": [
      "Empty DataFrame\n",
      "Columns: []\n",
      "Index: []\n",
      "Empty DataFrame\n",
      "Columns: []\n",
      "Index: []\n"
     ]
    }
   ],
   "source": [
    "headers = {'User-Agent': 'Mozilla/5.0 (Macintosh; Intel Mac OS X 10_11_5) AppleWebKit/537.36 (KHTML, like Gecko) Chrome/50.0.2661.102 Safari/537.36'}\n",
    "\n",
    "df_details = pd.DataFrame()\n",
    "aux = []\n",
    "\n",
    "cols = ['Art. No.', 'Composition', 'Fit', 'Material', 'Size',]\n",
    "df_pattern = pd.DataFrame(columns=cols)\n",
    "\n",
    "for i in range(len(data)):\n",
    "\n",
    "    url_hm = 'https://www2.hm.com/en_us/productpage.' + data.loc[i, 'product_id'] + '.html'\n",
    "\n",
    "    page = requests.get(url_hm, headers=headers)\n",
    "\n",
    "    soup = BeautifulSoup(page.text, 'html.parser')\n",
    "\n",
    "    ################# df_color\n",
    "\n",
    "    #color name\n",
    "    product_list = soup.find_all('a', class_='filter-option miniature')\n",
    "    product_color_name = [p.get('data-color') for p in product_list]\n",
    "\n",
    "    #product id\n",
    "    product_id = [p.get('data-articlecode') for p in product_list]\n",
    "\n",
    "    df_color = pd.DataFrame([product_id, product_color_name]).T\n",
    "    df_color.columns = ['product_id', 'product_color_name']\n",
    "\n",
    "    #creating style_id + color_id\n",
    "    df_color['style_id'] = df_color['product_id'].apply(lambda x: x[:-3])\n",
    "    df_color['color_id'] = df_color['product_id'].apply(lambda x: x[-3:])\n",
    "\n",
    "\n",
    "    ################# df_composition\n",
    "\n",
    "    #composition\n",
    "    product_composition_list = soup.find_all('div', class_='details-attributes-list-item')\n",
    "\n",
    "    product_composition = [list(filter(None, p.get_text().split('\\n'))) for p in product_composition_list]\n",
    "\n",
    "    df_composition = pd.DataFrame(product_composition).T\n",
    "    \n",
    "    try:\n",
    "        df_composition.columns = df_composition.iloc[0]\n",
    "    \n",
    "    except IndexError:\n",
    "        print (df_composition)\n",
    "        continue\n",
    "\n",
    "    df_composition = df_composition.iloc[1:].fillna(method='ffill')\n",
    "\n",
    "    df_composition = pd.concat([df_pattern, df_composition], axis=0)\n",
    "\n",
    "    df_composition = df_composition.drop_duplicates()\n",
    "\n",
    "    #creating style_id + color_id\n",
    "    df_composition['style_id'] = df_composition['Art. No.'].apply(lambda x: x[:-3])\n",
    "    df_composition['color_id'] = df_composition['Art. No.'].apply(lambda x: x[-3:])\n",
    "\n",
    "    aux = aux + df_composition.columns.tolist()\n",
    "\n",
    "    ################# merge df_color + df_composition\n",
    "    data_sku = pd.merge(df_color, df_composition[[ 'style_id', 'Fit', 'Composition', 'Size', 'Material']], how='left', on='style_id')\n",
    "\n",
    "    df_details = pd.concat([df_details, data_sku], axis=0)"
   ]
  },
  {
   "cell_type": "code",
   "execution_count": 28,
   "metadata": {
    "ExecuteTime": {
     "end_time": "2022-03-30T22:47:58.179743Z",
     "start_time": "2022-03-30T22:47:58.145743Z"
    }
   },
   "outputs": [
    {
     "data": {
      "text/html": [
       "<div>\n",
       "<style scoped>\n",
       "    .dataframe tbody tr th:only-of-type {\n",
       "        vertical-align: middle;\n",
       "    }\n",
       "\n",
       "    .dataframe tbody tr th {\n",
       "        vertical-align: top;\n",
       "    }\n",
       "\n",
       "    .dataframe thead th {\n",
       "        text-align: right;\n",
       "    }\n",
       "</style>\n",
       "<table border=\"1\" class=\"dataframe\">\n",
       "  <thead>\n",
       "    <tr style=\"text-align: right;\">\n",
       "      <th></th>\n",
       "      <th>product_id</th>\n",
       "      <th>product_category</th>\n",
       "      <th>product_name</th>\n",
       "      <th>product_price</th>\n",
       "      <th>scrapy_datetime</th>\n",
       "      <th>style_id</th>\n",
       "      <th>color_id</th>\n",
       "      <th>Fit</th>\n",
       "      <th>Composition</th>\n",
       "      <th>Material</th>\n",
       "    </tr>\n",
       "  </thead>\n",
       "  <tbody>\n",
       "    <tr>\n",
       "      <th>0</th>\n",
       "      <td>0690449051</td>\n",
       "      <td>men_jeans_ripped</td>\n",
       "      <td>Skinny Jeans</td>\n",
       "      <td>$ 39.99</td>\n",
       "      <td>2022-03-30 18:46:13</td>\n",
       "      <td>0690449</td>\n",
       "      <td>001</td>\n",
       "      <td>Skinny fit</td>\n",
       "      <td>Cotton 98%, Spandex 2%</td>\n",
       "      <td>keyFibreType</td>\n",
       "    </tr>\n",
       "    <tr>\n",
       "      <th>1</th>\n",
       "      <td>0690449051</td>\n",
       "      <td>men_jeans_ripped</td>\n",
       "      <td>Skinny Jeans</td>\n",
       "      <td>$ 39.99</td>\n",
       "      <td>2022-03-30 18:46:13</td>\n",
       "      <td>0690449</td>\n",
       "      <td>001</td>\n",
       "      <td>Skinny fit</td>\n",
       "      <td>Cotton 98%, Spandex 2%</td>\n",
       "      <td>Denim</td>\n",
       "    </tr>\n",
       "    <tr>\n",
       "      <th>2</th>\n",
       "      <td>0690449051</td>\n",
       "      <td>men_jeans_ripped</td>\n",
       "      <td>Skinny Jeans</td>\n",
       "      <td>$ 39.99</td>\n",
       "      <td>2022-03-30 18:46:13</td>\n",
       "      <td>0690449</td>\n",
       "      <td>002</td>\n",
       "      <td>Skinny fit</td>\n",
       "      <td>Cotton 98%, Spandex 2%</td>\n",
       "      <td>keyFibreType</td>\n",
       "    </tr>\n",
       "    <tr>\n",
       "      <th>3</th>\n",
       "      <td>0690449051</td>\n",
       "      <td>men_jeans_ripped</td>\n",
       "      <td>Skinny Jeans</td>\n",
       "      <td>$ 39.99</td>\n",
       "      <td>2022-03-30 18:46:13</td>\n",
       "      <td>0690449</td>\n",
       "      <td>002</td>\n",
       "      <td>Skinny fit</td>\n",
       "      <td>Cotton 98%, Spandex 2%</td>\n",
       "      <td>Denim</td>\n",
       "    </tr>\n",
       "    <tr>\n",
       "      <th>4</th>\n",
       "      <td>0690449051</td>\n",
       "      <td>men_jeans_ripped</td>\n",
       "      <td>Skinny Jeans</td>\n",
       "      <td>$ 39.99</td>\n",
       "      <td>2022-03-30 18:46:13</td>\n",
       "      <td>0690449</td>\n",
       "      <td>006</td>\n",
       "      <td>Skinny fit</td>\n",
       "      <td>Cotton 98%, Spandex 2%</td>\n",
       "      <td>keyFibreType</td>\n",
       "    </tr>\n",
       "    <tr>\n",
       "      <th>...</th>\n",
       "      <td>...</td>\n",
       "      <td>...</td>\n",
       "      <td>...</td>\n",
       "      <td>...</td>\n",
       "      <td>...</td>\n",
       "      <td>...</td>\n",
       "      <td>...</td>\n",
       "      <td>...</td>\n",
       "      <td>...</td>\n",
       "      <td>...</td>\n",
       "    </tr>\n",
       "    <tr>\n",
       "      <th>2797</th>\n",
       "      <td>0875105003</td>\n",
       "      <td>men_jeans_relaxed</td>\n",
       "      <td>Relaxed Jeans</td>\n",
       "      <td>$ 39.99</td>\n",
       "      <td>2022-03-30 18:46:13</td>\n",
       "      <td>0875105</td>\n",
       "      <td>023</td>\n",
       "      <td>Relaxed fit</td>\n",
       "      <td>Cotton 100%</td>\n",
       "      <td>Denim</td>\n",
       "    </tr>\n",
       "    <tr>\n",
       "      <th>2798</th>\n",
       "      <td>0875105003</td>\n",
       "      <td>men_jeans_relaxed</td>\n",
       "      <td>Relaxed Jeans</td>\n",
       "      <td>$ 39.99</td>\n",
       "      <td>2022-03-30 18:46:13</td>\n",
       "      <td>0875105</td>\n",
       "      <td>024</td>\n",
       "      <td>Relaxed fit</td>\n",
       "      <td>Cotton 100%</td>\n",
       "      <td>keyFibreType</td>\n",
       "    </tr>\n",
       "    <tr>\n",
       "      <th>2799</th>\n",
       "      <td>0875105003</td>\n",
       "      <td>men_jeans_relaxed</td>\n",
       "      <td>Relaxed Jeans</td>\n",
       "      <td>$ 39.99</td>\n",
       "      <td>2022-03-30 18:46:13</td>\n",
       "      <td>0875105</td>\n",
       "      <td>024</td>\n",
       "      <td>Relaxed fit</td>\n",
       "      <td>Cotton 100%</td>\n",
       "      <td>Denim</td>\n",
       "    </tr>\n",
       "    <tr>\n",
       "      <th>2800</th>\n",
       "      <td>0875105003</td>\n",
       "      <td>men_jeans_relaxed</td>\n",
       "      <td>Relaxed Jeans</td>\n",
       "      <td>$ 39.99</td>\n",
       "      <td>2022-03-30 18:46:13</td>\n",
       "      <td>0875105</td>\n",
       "      <td>002</td>\n",
       "      <td>Relaxed fit</td>\n",
       "      <td>Cotton 100%</td>\n",
       "      <td>keyFibreType</td>\n",
       "    </tr>\n",
       "    <tr>\n",
       "      <th>2801</th>\n",
       "      <td>0875105003</td>\n",
       "      <td>men_jeans_relaxed</td>\n",
       "      <td>Relaxed Jeans</td>\n",
       "      <td>$ 39.99</td>\n",
       "      <td>2022-03-30 18:46:13</td>\n",
       "      <td>0875105</td>\n",
       "      <td>002</td>\n",
       "      <td>Relaxed fit</td>\n",
       "      <td>Cotton 100%</td>\n",
       "      <td>Denim</td>\n",
       "    </tr>\n",
       "  </tbody>\n",
       "</table>\n",
       "<p>2802 rows × 10 columns</p>\n",
       "</div>"
      ],
      "text/plain": [
       "      product_id   product_category   product_name product_price  \\\n",
       "0     0690449051   men_jeans_ripped   Skinny Jeans       $ 39.99   \n",
       "1     0690449051   men_jeans_ripped   Skinny Jeans       $ 39.99   \n",
       "2     0690449051   men_jeans_ripped   Skinny Jeans       $ 39.99   \n",
       "3     0690449051   men_jeans_ripped   Skinny Jeans       $ 39.99   \n",
       "4     0690449051   men_jeans_ripped   Skinny Jeans       $ 39.99   \n",
       "...          ...                ...            ...           ...   \n",
       "2797  0875105003  men_jeans_relaxed  Relaxed Jeans       $ 39.99   \n",
       "2798  0875105003  men_jeans_relaxed  Relaxed Jeans       $ 39.99   \n",
       "2799  0875105003  men_jeans_relaxed  Relaxed Jeans       $ 39.99   \n",
       "2800  0875105003  men_jeans_relaxed  Relaxed Jeans       $ 39.99   \n",
       "2801  0875105003  men_jeans_relaxed  Relaxed Jeans       $ 39.99   \n",
       "\n",
       "         scrapy_datetime style_id color_id          Fit  \\\n",
       "0    2022-03-30 18:46:13  0690449      001   Skinny fit   \n",
       "1    2022-03-30 18:46:13  0690449      001   Skinny fit   \n",
       "2    2022-03-30 18:46:13  0690449      002   Skinny fit   \n",
       "3    2022-03-30 18:46:13  0690449      002   Skinny fit   \n",
       "4    2022-03-30 18:46:13  0690449      006   Skinny fit   \n",
       "...                  ...      ...      ...          ...   \n",
       "2797 2022-03-30 18:46:13  0875105      023  Relaxed fit   \n",
       "2798 2022-03-30 18:46:13  0875105      024  Relaxed fit   \n",
       "2799 2022-03-30 18:46:13  0875105      024  Relaxed fit   \n",
       "2800 2022-03-30 18:46:13  0875105      002  Relaxed fit   \n",
       "2801 2022-03-30 18:46:13  0875105      002  Relaxed fit   \n",
       "\n",
       "                 Composition      Material  \n",
       "0     Cotton 98%, Spandex 2%  keyFibreType  \n",
       "1     Cotton 98%, Spandex 2%         Denim  \n",
       "2     Cotton 98%, Spandex 2%  keyFibreType  \n",
       "3     Cotton 98%, Spandex 2%         Denim  \n",
       "4     Cotton 98%, Spandex 2%  keyFibreType  \n",
       "...                      ...           ...  \n",
       "2797             Cotton 100%         Denim  \n",
       "2798             Cotton 100%  keyFibreType  \n",
       "2799             Cotton 100%         Denim  \n",
       "2800             Cotton 100%  keyFibreType  \n",
       "2801             Cotton 100%         Denim  \n",
       "\n",
       "[2802 rows x 10 columns]"
      ]
     },
     "execution_count": 28,
     "metadata": {},
     "output_type": "execute_result"
    }
   ],
   "source": [
    "df_details = df_details.drop_duplicates()\n",
    "\n",
    "data['style_id'] = data['product_id'].apply(lambda x: x[:-3])\n",
    "\n",
    "data_raw = pd.merge(data, df_details[['style_id', 'color_id', 'Fit', 'Composition', 'Material']], how='left', on='style_id')\n",
    "\n",
    "data_raw = data_raw.drop_duplicates()\n",
    "\n",
    "data_raw"
   ]
  },
  {
   "cell_type": "code",
   "execution_count": 29,
   "metadata": {
    "ExecuteTime": {
     "end_time": "2022-03-30T22:48:05.412071Z",
     "start_time": "2022-03-30T22:48:05.380103Z"
    }
   },
   "outputs": [],
   "source": [
    "data_raw.to_csv('data_hm.csv', index=False)"
   ]
  },
  {
   "cell_type": "markdown",
   "metadata": {},
   "source": [
    "### <font color='1B818D'>Transform</font>"
   ]
  },
  {
   "cell_type": "code",
   "execution_count": 30,
   "metadata": {
    "ExecuteTime": {
     "end_time": "2022-03-30T22:48:26.639722Z",
     "start_time": "2022-03-30T22:48:26.592692Z"
    }
   },
   "outputs": [
    {
     "data": {
      "text/html": [
       "<div>\n",
       "<style scoped>\n",
       "    .dataframe tbody tr th:only-of-type {\n",
       "        vertical-align: middle;\n",
       "    }\n",
       "\n",
       "    .dataframe tbody tr th {\n",
       "        vertical-align: top;\n",
       "    }\n",
       "\n",
       "    .dataframe thead th {\n",
       "        text-align: right;\n",
       "    }\n",
       "</style>\n",
       "<table border=\"1\" class=\"dataframe\">\n",
       "  <thead>\n",
       "    <tr style=\"text-align: right;\">\n",
       "      <th></th>\n",
       "      <th>product_id</th>\n",
       "      <th>product_category</th>\n",
       "      <th>product_name</th>\n",
       "      <th>product_price</th>\n",
       "      <th>scrapy_datetime</th>\n",
       "      <th>style_id</th>\n",
       "      <th>color_id</th>\n",
       "      <th>Fit</th>\n",
       "      <th>Composition</th>\n",
       "      <th>Material</th>\n",
       "    </tr>\n",
       "  </thead>\n",
       "  <tbody>\n",
       "    <tr>\n",
       "      <th>0</th>\n",
       "      <td>690449051</td>\n",
       "      <td>men_jeans_ripped</td>\n",
       "      <td>skinny_jeans</td>\n",
       "      <td>39.99</td>\n",
       "      <td>2022-03-30 18:46:13</td>\n",
       "      <td>690449</td>\n",
       "      <td>1</td>\n",
       "      <td>skinny_fit</td>\n",
       "      <td>Cotton 98%, Spandex 2%</td>\n",
       "      <td>keyFibreType</td>\n",
       "    </tr>\n",
       "    <tr>\n",
       "      <th>1</th>\n",
       "      <td>690449051</td>\n",
       "      <td>men_jeans_ripped</td>\n",
       "      <td>skinny_jeans</td>\n",
       "      <td>39.99</td>\n",
       "      <td>2022-03-30 18:46:13</td>\n",
       "      <td>690449</td>\n",
       "      <td>1</td>\n",
       "      <td>skinny_fit</td>\n",
       "      <td>Cotton 98%, Spandex 2%</td>\n",
       "      <td>Denim</td>\n",
       "    </tr>\n",
       "    <tr>\n",
       "      <th>2</th>\n",
       "      <td>690449051</td>\n",
       "      <td>men_jeans_ripped</td>\n",
       "      <td>skinny_jeans</td>\n",
       "      <td>39.99</td>\n",
       "      <td>2022-03-30 18:46:13</td>\n",
       "      <td>690449</td>\n",
       "      <td>2</td>\n",
       "      <td>skinny_fit</td>\n",
       "      <td>Cotton 98%, Spandex 2%</td>\n",
       "      <td>keyFibreType</td>\n",
       "    </tr>\n",
       "    <tr>\n",
       "      <th>3</th>\n",
       "      <td>690449051</td>\n",
       "      <td>men_jeans_ripped</td>\n",
       "      <td>skinny_jeans</td>\n",
       "      <td>39.99</td>\n",
       "      <td>2022-03-30 18:46:13</td>\n",
       "      <td>690449</td>\n",
       "      <td>2</td>\n",
       "      <td>skinny_fit</td>\n",
       "      <td>Cotton 98%, Spandex 2%</td>\n",
       "      <td>Denim</td>\n",
       "    </tr>\n",
       "    <tr>\n",
       "      <th>4</th>\n",
       "      <td>690449051</td>\n",
       "      <td>men_jeans_ripped</td>\n",
       "      <td>skinny_jeans</td>\n",
       "      <td>39.99</td>\n",
       "      <td>2022-03-30 18:46:13</td>\n",
       "      <td>690449</td>\n",
       "      <td>6</td>\n",
       "      <td>skinny_fit</td>\n",
       "      <td>Cotton 98%, Spandex 2%</td>\n",
       "      <td>keyFibreType</td>\n",
       "    </tr>\n",
       "    <tr>\n",
       "      <th>...</th>\n",
       "      <td>...</td>\n",
       "      <td>...</td>\n",
       "      <td>...</td>\n",
       "      <td>...</td>\n",
       "      <td>...</td>\n",
       "      <td>...</td>\n",
       "      <td>...</td>\n",
       "      <td>...</td>\n",
       "      <td>...</td>\n",
       "      <td>...</td>\n",
       "    </tr>\n",
       "    <tr>\n",
       "      <th>2797</th>\n",
       "      <td>875105003</td>\n",
       "      <td>men_jeans_relaxed</td>\n",
       "      <td>relaxed_jeans</td>\n",
       "      <td>39.99</td>\n",
       "      <td>2022-03-30 18:46:13</td>\n",
       "      <td>875105</td>\n",
       "      <td>23</td>\n",
       "      <td>relaxed_fit</td>\n",
       "      <td>Cotton 100%</td>\n",
       "      <td>Denim</td>\n",
       "    </tr>\n",
       "    <tr>\n",
       "      <th>2798</th>\n",
       "      <td>875105003</td>\n",
       "      <td>men_jeans_relaxed</td>\n",
       "      <td>relaxed_jeans</td>\n",
       "      <td>39.99</td>\n",
       "      <td>2022-03-30 18:46:13</td>\n",
       "      <td>875105</td>\n",
       "      <td>24</td>\n",
       "      <td>relaxed_fit</td>\n",
       "      <td>Cotton 100%</td>\n",
       "      <td>keyFibreType</td>\n",
       "    </tr>\n",
       "    <tr>\n",
       "      <th>2799</th>\n",
       "      <td>875105003</td>\n",
       "      <td>men_jeans_relaxed</td>\n",
       "      <td>relaxed_jeans</td>\n",
       "      <td>39.99</td>\n",
       "      <td>2022-03-30 18:46:13</td>\n",
       "      <td>875105</td>\n",
       "      <td>24</td>\n",
       "      <td>relaxed_fit</td>\n",
       "      <td>Cotton 100%</td>\n",
       "      <td>Denim</td>\n",
       "    </tr>\n",
       "    <tr>\n",
       "      <th>2800</th>\n",
       "      <td>875105003</td>\n",
       "      <td>men_jeans_relaxed</td>\n",
       "      <td>relaxed_jeans</td>\n",
       "      <td>39.99</td>\n",
       "      <td>2022-03-30 18:46:13</td>\n",
       "      <td>875105</td>\n",
       "      <td>2</td>\n",
       "      <td>relaxed_fit</td>\n",
       "      <td>Cotton 100%</td>\n",
       "      <td>keyFibreType</td>\n",
       "    </tr>\n",
       "    <tr>\n",
       "      <th>2801</th>\n",
       "      <td>875105003</td>\n",
       "      <td>men_jeans_relaxed</td>\n",
       "      <td>relaxed_jeans</td>\n",
       "      <td>39.99</td>\n",
       "      <td>2022-03-30 18:46:13</td>\n",
       "      <td>875105</td>\n",
       "      <td>2</td>\n",
       "      <td>relaxed_fit</td>\n",
       "      <td>Cotton 100%</td>\n",
       "      <td>Denim</td>\n",
       "    </tr>\n",
       "  </tbody>\n",
       "</table>\n",
       "<p>2800 rows × 10 columns</p>\n",
       "</div>"
      ],
      "text/plain": [
       "      product_id   product_category   product_name  product_price  \\\n",
       "0      690449051   men_jeans_ripped   skinny_jeans          39.99   \n",
       "1      690449051   men_jeans_ripped   skinny_jeans          39.99   \n",
       "2      690449051   men_jeans_ripped   skinny_jeans          39.99   \n",
       "3      690449051   men_jeans_ripped   skinny_jeans          39.99   \n",
       "4      690449051   men_jeans_ripped   skinny_jeans          39.99   \n",
       "...          ...                ...            ...            ...   \n",
       "2797   875105003  men_jeans_relaxed  relaxed_jeans          39.99   \n",
       "2798   875105003  men_jeans_relaxed  relaxed_jeans          39.99   \n",
       "2799   875105003  men_jeans_relaxed  relaxed_jeans          39.99   \n",
       "2800   875105003  men_jeans_relaxed  relaxed_jeans          39.99   \n",
       "2801   875105003  men_jeans_relaxed  relaxed_jeans          39.99   \n",
       "\n",
       "         scrapy_datetime  style_id  color_id          Fit  \\\n",
       "0    2022-03-30 18:46:13    690449         1   skinny_fit   \n",
       "1    2022-03-30 18:46:13    690449         1   skinny_fit   \n",
       "2    2022-03-30 18:46:13    690449         2   skinny_fit   \n",
       "3    2022-03-30 18:46:13    690449         2   skinny_fit   \n",
       "4    2022-03-30 18:46:13    690449         6   skinny_fit   \n",
       "...                  ...       ...       ...          ...   \n",
       "2797 2022-03-30 18:46:13    875105        23  relaxed_fit   \n",
       "2798 2022-03-30 18:46:13    875105        24  relaxed_fit   \n",
       "2799 2022-03-30 18:46:13    875105        24  relaxed_fit   \n",
       "2800 2022-03-30 18:46:13    875105         2  relaxed_fit   \n",
       "2801 2022-03-30 18:46:13    875105         2  relaxed_fit   \n",
       "\n",
       "                 Composition      Material  \n",
       "0     Cotton 98%, Spandex 2%  keyFibreType  \n",
       "1     Cotton 98%, Spandex 2%         Denim  \n",
       "2     Cotton 98%, Spandex 2%  keyFibreType  \n",
       "3     Cotton 98%, Spandex 2%         Denim  \n",
       "4     Cotton 98%, Spandex 2%  keyFibreType  \n",
       "...                      ...           ...  \n",
       "2797             Cotton 100%         Denim  \n",
       "2798             Cotton 100%  keyFibreType  \n",
       "2799             Cotton 100%         Denim  \n",
       "2800             Cotton 100%  keyFibreType  \n",
       "2801             Cotton 100%         Denim  \n",
       "\n",
       "[2800 rows x 10 columns]"
      ]
     },
     "execution_count": 30,
     "metadata": {},
     "output_type": "execute_result"
    }
   ],
   "source": [
    "data = pd.read_csv('data_hm.csv')\n",
    "\n",
    "data = data.dropna(subset=['color_id'])\n",
    "\n",
    "# product_id\n",
    "\n",
    "# product_category\n",
    "\n",
    "# product_name\n",
    "data['product_name'] = data['product_name'].apply(lambda x: x.replace(' ', '_').lower())\n",
    "\n",
    "# product_price\n",
    "data['product_price'] = data['product_price'].apply(lambda x: x.replace('$ ', '')).astype(float)\n",
    "\n",
    "# scrapy_datetime\n",
    "data['scrapy_datetime'] = pd.to_datetime(data['scrapy_datetime'], format='%Y-%m-%d %H:%M:%S')\n",
    "\n",
    "# style_id\n",
    "\n",
    "# color_id\n",
    "data['color_id'] = data['color_id'].astype('int64')\n",
    "\n",
    "# Fit\n",
    "data['Fit'] = data['Fit'].apply(lambda x: x.replace(' ', '_').lower())\n",
    "\n",
    "# Composition\n",
    "# Material\n",
    "\n",
    "\n",
    "data"
   ]
  },
  {
   "cell_type": "code",
   "execution_count": 31,
   "metadata": {
    "ExecuteTime": {
     "end_time": "2022-03-30T22:48:36.045755Z",
     "start_time": "2022-03-30T22:48:36.028727Z"
    }
   },
   "outputs": [
    {
     "data": {
      "text/plain": [
       "product_id                   int64\n",
       "product_category            object\n",
       "product_name                object\n",
       "product_price              float64\n",
       "scrapy_datetime     datetime64[ns]\n",
       "style_id                     int64\n",
       "color_id                     int64\n",
       "Fit                         object\n",
       "Composition                 object\n",
       "Material                    object\n",
       "dtype: object"
      ]
     },
     "execution_count": 31,
     "metadata": {},
     "output_type": "execute_result"
    }
   ],
   "source": [
    "data.dtypes"
   ]
  },
  {
   "cell_type": "code",
   "execution_count": 32,
   "metadata": {
    "ExecuteTime": {
     "end_time": "2022-03-30T22:48:36.314955Z",
     "start_time": "2022-03-30T22:48:36.300899Z"
    },
    "scrolled": true
   },
   "outputs": [
    {
     "data": {
      "text/plain": [
       "product_id          0\n",
       "product_category    0\n",
       "product_name        0\n",
       "product_price       0\n",
       "scrapy_datetime     0\n",
       "style_id            0\n",
       "color_id            0\n",
       "Fit                 0\n",
       "Composition         0\n",
       "Material            0\n",
       "dtype: int64"
      ]
     },
     "execution_count": 32,
     "metadata": {},
     "output_type": "execute_result"
    }
   ],
   "source": [
    "data.isna().sum()"
   ]
  },
  {
   "cell_type": "code",
   "execution_count": null,
   "metadata": {},
   "outputs": [],
   "source": []
  },
  {
   "cell_type": "code",
   "execution_count": null,
   "metadata": {},
   "outputs": [],
   "source": []
  },
  {
   "cell_type": "code",
   "execution_count": null,
   "metadata": {},
   "outputs": [],
   "source": []
  },
  {
   "cell_type": "code",
   "execution_count": null,
   "metadata": {},
   "outputs": [],
   "source": []
  },
  {
   "cell_type": "code",
   "execution_count": null,
   "metadata": {},
   "outputs": [],
   "source": []
  },
  {
   "cell_type": "code",
   "execution_count": null,
   "metadata": {},
   "outputs": [],
   "source": []
  },
  {
   "cell_type": "code",
   "execution_count": null,
   "metadata": {},
   "outputs": [],
   "source": []
  },
  {
   "cell_type": "code",
   "execution_count": null,
   "metadata": {
    "ExecuteTime": {
     "end_time": "2022-03-30T21:48:04.635203Z",
     "start_time": "2022-03-30T21:46:10.015Z"
    }
   },
   "outputs": [],
   "source": [
    "text01 = 'Rua Armando Shibata, 97 - Vila Leopolding, São Paulo'\n",
    "text02 = 'Av. dos trabalhadores, 403 - Centro, Mogi Guaçu'\n",
    "text03 = 'Al. Moraes, 90 - Vila Golmes, Pernambuco'\n",
    "\n",
    "text = [text01, text02, text03]\n",
    "\n",
    "regex = '^[^,]*'"
   ]
  },
  {
   "cell_type": "code",
   "execution_count": null,
   "metadata": {
    "ExecuteTime": {
     "end_time": "2022-03-30T21:48:04.636205Z",
     "start_time": "2022-03-30T21:46:10.016Z"
    }
   },
   "outputs": [],
   "source": [
    "for t in text:\n",
    "    print(re.search(regex, t).group(0))"
   ]
  },
  {
   "cell_type": "code",
   "execution_count": null,
   "metadata": {
    "ExecuteTime": {
     "end_time": "2022-03-30T21:48:04.637203Z",
     "start_time": "2022-03-30T21:46:10.017Z"
    }
   },
   "outputs": [],
   "source": [
    "regex = '\\d+'\n",
    "\n",
    "for t in text:\n",
    "    print(re.search(regex, t).group(0))"
   ]
  },
  {
   "cell_type": "code",
   "execution_count": null,
   "metadata": {
    "ExecuteTime": {
     "end_time": "2022-03-30T21:48:04.638203Z",
     "start_time": "2022-03-30T21:46:10.018Z"
    }
   },
   "outputs": [],
   "source": [
    "regex = '- (.+),'\n",
    "\n",
    "for t in text:\n",
    "    print(re.search(regex, t).group(1))"
   ]
  },
  {
   "cell_type": "code",
   "execution_count": null,
   "metadata": {
    "ExecuteTime": {
     "end_time": "2022-03-30T21:48:04.641203Z",
     "start_time": "2022-03-30T21:46:10.019Z"
    }
   },
   "outputs": [],
   "source": [
    "regex = ', ([a-zA-Z].+)'\n",
    "\n",
    "for t in text:\n",
    "    print(re.search(regex, t).group(1))"
   ]
  },
  {
   "cell_type": "code",
   "execution_count": null,
   "metadata": {},
   "outputs": [],
   "source": []
  }
 ],
 "metadata": {
  "kernelspec": {
   "display_name": "Python 3",
   "language": "python",
   "name": "python3"
  },
  "language_info": {
   "codemirror_mode": {
    "name": "ipython",
    "version": 3
   },
   "file_extension": ".py",
   "mimetype": "text/x-python",
   "name": "python",
   "nbconvert_exporter": "python",
   "pygments_lexer": "ipython3",
   "version": "3.7.6"
  },
  "varInspector": {
   "cols": {
    "lenName": 16,
    "lenType": 16,
    "lenVar": 40
   },
   "kernels_config": {
    "python": {
     "delete_cmd_postfix": "",
     "delete_cmd_prefix": "del ",
     "library": "var_list.py",
     "varRefreshCmd": "print(var_dic_list())"
    },
    "r": {
     "delete_cmd_postfix": ") ",
     "delete_cmd_prefix": "rm(",
     "library": "var_list.r",
     "varRefreshCmd": "cat(var_dic_list()) "
    }
   },
   "types_to_exclude": [
    "module",
    "function",
    "builtin_function_or_method",
    "instance",
    "_Feature"
   ],
   "window_display": false
  }
 },
 "nbformat": 4,
 "nbformat_minor": 4
}
